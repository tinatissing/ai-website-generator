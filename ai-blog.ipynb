{
 "cells": [
  {
   "cell_type": "markdown",
   "metadata": {},
   "source": [
    "# AI Blog Generator\n",
    "\n",
    "Justin Cripps, Ethan Hodge, Philip Lou, Tina Tissington"
   ]
  },
  {
   "cell_type": "markdown",
   "metadata": {},
   "source": [
    "Make sure to replace `'YOUR_API_KEY'` with your Gemini API Key"
   ]
  },
  {
   "cell_type": "code",
   "execution_count": 8,
   "metadata": {},
   "outputs": [],
   "source": [
    "import dspy\n",
    "\n",
    "# Setting up Gemini as our Google LLM\n",
    "\n",
    "gemini = dspy.Google(\"models/gemini-1.0-pro\",\n",
    "                        api_key='YOUR_API_KEY',\n",
    "                        temperature=0)\n",
    "                        \n",
    "dspy.settings.configure(lm=gemini, max_tokens=1024)"
   ]
  },
  {
   "cell_type": "markdown",
   "metadata": {},
   "source": [
    "This program implements the dspy library to program the LLM rather than prompt it."
   ]
  },
  {
   "cell_type": "code",
   "execution_count": 2,
   "metadata": {},
   "outputs": [],
   "source": [
    "from dspy import Signature, InputField, OutputField\n",
    "from pydantic import BaseModel, Field\n",
    "from typing import List"
   ]
  },
  {
   "cell_type": "markdown",
   "metadata": {},
   "source": [
    "To interact with the LLM, we can create classes that represent aspects of our website we would like to create. The class below creates the skeleton of producing an image. "
   ]
  },
  {
   "cell_type": "code",
   "execution_count": 3,
   "metadata": {},
   "outputs": [],
   "source": [
    "class AIImage(BaseModel):\n",
    "    \"\"\"A single generated image.\"\"\"\n",
    "\n",
    "    prompt: str = Field(desc=\"The prompt used to generate the image.\")\n",
    "    url: str = Field(\n",
    "        desc=\"The URL of the generated image.\", default=\"./img/placeholder.webp\"\n",
    "    )"
   ]
  },
  {
   "cell_type": "markdown",
   "metadata": {},
   "source": [
    "Now we can declare classes for the Webpage, Website, and Style (CSS):"
   ]
  },
  {
   "cell_type": "code",
   "execution_count": 13,
   "metadata": {},
   "outputs": [],
   "source": [
    "class Webpage(BaseModel):\n",
    "    \"\"\"A single page in a website.\"\"\"\n",
    "\n",
    "    title: str = Field(desc=\"The page's title.\")\n",
    "    id: str = Field(desc=f\"Lowercase of {title}\")\n",
    "    blurb: str = Field(desc=\"Catchhy blurb or quote about the page.\")\n",
    "    image: AIImage = Field(desc=\"A nice AI generated image to accompany the page.\")\n",
    "    content: str = Field(desc=\"Paragraph about the site\")\n",
    "    bullets: List[str] = Field(\n",
    "        desc=\"Up to 5 bullet points of concise, relevant content.\"\n",
    "    )\n",
    "\n",
    "    def to_html(self):\n",
    "        html_output = f'<h2 id=\"{self.id}\">{self.title}</h2><p>{self.blurb}</p><img src=\"{self.image.url}\" width=\"400\" alt=\"{self.image.prompt}\"><p>{self.content}</p><ul>'\n",
    "        for bullet in self.bullets:\n",
    "            html_output += f\"<li>{bullet}</li>\"\n",
    "        html_output += f\"</ul>\"\n",
    "        return html_output\n",
    "\n",
    "class Website(BaseModel):\n",
    "    \"\"\"A complete website with a title, description, and content.\"\"\"\n",
    "\n",
    "    title: str = Field(desc=\"The blog webpage's title in HTML.\")\n",
    "    webpages: List[Webpage] = Field(desc=\"The pages that make up the website.\")\n",
    "    navbar: str = Field(desc=\"HTML and CSS to create a dynamic nav bar for each section of the site using their ids.\")\n",
    "    footer: str = Field(desc=\"Footer for the website.\")\n",
    "\n",
    "    def to_html(self):\n",
    "        html_output = f\"<head><link rel='stylesheet' href='css/main.css'></head><h1>{self.title}</h1><div>{self.navbar}</div>\"\n",
    "        for webpages in self.webpages:\n",
    "            html_output += webpages.to_html()\n",
    "        html_output += f\"<footer>{self.footer}</footer>\"\n",
    "        return html_output\n",
    "    \n",
    "class Style(BaseModel):\n",
    "    \"\"\"A complete website style.\"\"\"\n",
    "\n",
    "    css: str = Field(desc=\"Create custom css for the website to make it feel like a professional blog.\")\n",
    "\n",
    "    def to_html(self):\n",
    "        html_output = f'{self.css}'\n",
    "        return html_output\n"
   ]
  },
  {
   "cell_type": "markdown",
   "metadata": {},
   "source": [
    "The last class we create is a website creator class which we can call to create our blog:"
   ]
  },
  {
   "cell_type": "code",
   "execution_count": 6,
   "metadata": {},
   "outputs": [],
   "source": [
    "class WebsiteCreator(Signature):\n",
    "    \"\"\"Create content for a great blog website.\"\"\"\n",
    "    \n",
    "    website_subject: str = InputField(desc=\"The subject of the website.\")\n",
    "    website_content: Website = OutputField(desc=\"The complete website content.\")\n",
    "    website_styling: Style = OutputField(desc=\"The complete website styling\")"
   ]
  },
  {
   "cell_type": "markdown",
   "metadata": {},
   "source": [
    "Call the website_creator to create a website about \"Engineering at the University of Guelph\". If you get an error, refer to the readme and try changing the subect and running again."
   ]
  },
  {
   "cell_type": "code",
   "execution_count": 15,
   "metadata": {},
   "outputs": [],
   "source": [
    "from dspy.functional import TypedPredictor\n",
    "\n",
    "website_creator = TypedPredictor(WebsiteCreator)\n",
    "blog_website = website_creator(website_subject=\"Blog About Engineering at the University of Guelph.\")"
   ]
  },
  {
   "cell_type": "markdown",
   "metadata": {},
   "source": [
    "Finally save the html and css generated and display it in the noteboook:"
   ]
  },
  {
   "cell_type": "code",
   "execution_count": 16,
   "metadata": {},
   "outputs": [
    {
     "name": "stdout",
     "output_type": "stream",
     "text": [
      "(\"<head><link rel='stylesheet' href='main.css'></head><h1>Engineering at the \"\n",
      " 'University of Guelph</h1><div><nav>\\n'\n",
      " '  <ul>\\n'\n",
      " '    <li><a href=\"#home\">Home</a></li>\\n'\n",
      " '    <li><a href=\"#about\">About</a></li>\\n'\n",
      " '    <li><a href=\"#contact\">Contact</a></li>\\n'\n",
      " '  </ul>\\n'\n",
      " '</nav></div><h2 id=\"home\">Home</h2><p>Welcome to the Engineering at the '\n",
      " 'University of Guelph blog!</p><img src=\"./img/home.webp\" width=\"400\" alt=\"A '\n",
      " 'group of students working on a project in a lab.\"><p>This blog is a space '\n",
      " 'for students, faculty, and staff to share their experiences, insights, and '\n",
      " 'research in the field of engineering at the University of '\n",
      " 'Guelph.</p><ul><li>We will be posting about a variety of topics, '\n",
      " 'including:</li></ul><h2 id=\"about\">About</h2><p>A little bit about '\n",
      " 'us.</p><img src=\"./img/about.webp\" width=\"400\" alt=\"A photo of the '\n",
      " 'University of Guelph campus.\"><p>The Faculty of Engineering at the '\n",
      " 'University of Guelph is one of the leading engineering schools in Canada. We '\n",
      " 'offer a wide range of undergraduate and graduate programs, and our faculty '\n",
      " 'are engaged in cutting-edge research in a variety of fields.</p><ul><li>We '\n",
      " 'are committed to providing our students with a world-class '\n",
      " 'education.</li><li>Our faculty are internationally recognized for their '\n",
      " 'research excellence.</li><li>We have a strong commitment to community '\n",
      " 'engagement.</li></ul><h2 id=\"contact\">Contact</h2><p>Get in touch with '\n",
      " 'us!</p><img src=\"./img/contact.webp\" width=\"400\" alt=\"A photo of a group of '\n",
      " 'people working on a project.\"><p>If you have any questions or comments, '\n",
      " 'please feel free to contact us.</p><ul><li>You can contact us by '\n",
      " 'email.</li><li>You can contact us by phone.</li><li>You can contact us by '\n",
      " 'social media.</li></ul><footer><footer>\\n'\n",
      " '  <p>Copyright &copy; 2023 Engineering at the University of Guelph</p>\\n'\n",
      " '</footer></footer>')\n"
     ]
    },
    {
     "data": {
      "text/html": [
       "<head><link rel='stylesheet' href='main.css'></head><h1>Engineering at the University of Guelph</h1><div><nav>\n",
       "  <ul>\n",
       "    <li><a href=\"#home\">Home</a></li>\n",
       "    <li><a href=\"#about\">About</a></li>\n",
       "    <li><a href=\"#contact\">Contact</a></li>\n",
       "  </ul>\n",
       "</nav></div><h2 id=\"home\">Home</h2><p>Welcome to the Engineering at the University of Guelph blog!</p><img src=\"./img/home.webp\" width=\"400\" alt=\"A group of students working on a project in a lab.\"><p>This blog is a space for students, faculty, and staff to share their experiences, insights, and research in the field of engineering at the University of Guelph.</p><ul><li>We will be posting about a variety of topics, including:</li></ul><h2 id=\"about\">About</h2><p>A little bit about us.</p><img src=\"./img/about.webp\" width=\"400\" alt=\"A photo of the University of Guelph campus.\"><p>The Faculty of Engineering at the University of Guelph is one of the leading engineering schools in Canada. We offer a wide range of undergraduate and graduate programs, and our faculty are engaged in cutting-edge research in a variety of fields.</p><ul><li>We are committed to providing our students with a world-class education.</li><li>Our faculty are internationally recognized for their research excellence.</li><li>We have a strong commitment to community engagement.</li></ul><h2 id=\"contact\">Contact</h2><p>Get in touch with us!</p><img src=\"./img/contact.webp\" width=\"400\" alt=\"A photo of a group of people working on a project.\"><p>If you have any questions or comments, please feel free to contact us.</p><ul><li>You can contact us by email.</li><li>You can contact us by phone.</li><li>You can contact us by social media.</li></ul><footer><footer>\n",
       "  <p>Copyright &copy; 2023 Engineering at the University of Guelph</p>\n",
       "</footer></footer>"
      ],
      "text/plain": [
       "<IPython.core.display.HTML object>"
      ]
     },
     "metadata": {},
     "output_type": "display_data"
    }
   ],
   "source": [
    "from pprint import pprint\n",
    "\n",
    "pprint(blog_website.website_content.to_html())\n",
    "\n",
    "with open(\"home.html\", \"w\") as file:\n",
    "    file.write(blog_website.website_content.to_html())\n",
    "\n",
    "with open(\"css/main.css\", \"w\") as file:\n",
    "    file.write(blog_website.website_styling.to_html())\n",
    "\n",
    "from IPython.display import display, HTML\n",
    "display(HTML(blog_website.website_content.to_html()))"
   ]
  },
  {
   "cell_type": "code",
   "execution_count": null,
   "metadata": {},
   "outputs": [],
   "source": []
  }
 ],
 "metadata": {
  "kernelspec": {
   "display_name": "myenv",
   "language": "python",
   "name": "python3"
  },
  "language_info": {
   "codemirror_mode": {
    "name": "ipython",
    "version": 3
   },
   "file_extension": ".py",
   "mimetype": "text/x-python",
   "name": "python",
   "nbconvert_exporter": "python",
   "pygments_lexer": "ipython3",
   "version": "3.9.19"
  }
 },
 "nbformat": 4,
 "nbformat_minor": 4
}
